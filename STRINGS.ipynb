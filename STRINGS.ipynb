{
 "cells": [
  {
   "cell_type": "code",
   "execution_count": 1,
   "id": "f2119f95",
   "metadata": {},
   "outputs": [
    {
     "name": "stdout",
     "output_type": "stream",
     "text": [
      "a=  THE SUN RISES IN EAST\n"
     ]
    }
   ],
   "source": [
    "# 1. LINE CONTUATION CHARACTER.\n",
    "\n",
    "a=\"THE SUN \\\n",
    "RISES IN \\\n",
    "EAST\"\n",
    "print(\"a= \",a)"
   ]
  },
  {
   "cell_type": "code",
   "execution_count": 1,
   "id": "5cf4ed38",
   "metadata": {},
   "outputs": [
    {
     "name": "stdout",
     "output_type": "stream",
     "text": [
      "First character of a is  T\n",
      "Second character of a is  H\n",
      "Third character of a is  E\n"
     ]
    }
   ],
   "source": [
    "# 2. ONLY TO PRINT SPECIFIC PART.\n",
    "\n",
    "a=\"THE SUN RISES IN EAST\"\n",
    "print(\"First character of a is \",a[0])\n",
    "print(\"Second character of a is \",a[1])\n",
    "print(\"Third character of a is \",a[2])"
   ]
  },
  {
   "cell_type": "code",
   "execution_count": 2,
   "id": "bca19bbe",
   "metadata": {},
   "outputs": [
    {
     "name": "stdout",
     "output_type": "stream",
     "text": [
      "The first 10 characters of a = THE SUN RIS\n",
      "The first 3 characters of a = THE\n"
     ]
    }
   ],
   "source": [
    "# 3. STRINGS---COLLECTION OF CHARACTER STORED CONTINOUSLY AND CAN BE ACCESSED USING INDEX NO.\n",
    "# INDEX NO. IS ALWAYS AN INTEGER VALUE WHICH ALWAYS START FROM 0.\n",
    "# RANGE GIVEN IS ALWAYS MORE THEN ONE (+1) THEN ONLY WE CAN GET THE DESIERED OUTPUT.\n",
    "\n",
    "a=\"THE SUN RISES IN EAST\"\n",
    "print(\"The first 10 characters of a =\",a[0:11])\n",
    "print(\"The first 3 characters of a =\",a[:3])# without giving 0 also program run"
   ]
  },
  {
   "cell_type": "code",
   "execution_count": 3,
   "id": "1325f4b4",
   "metadata": {},
   "outputs": [
    {
     "name": "stdout",
     "output_type": "stream",
     "text": [
      "The LAST character of a = T\n"
     ]
    }
   ],
   "source": [
    "# 4. TO PRINT FROM LAST (USE NEGATIVE NO.).\n",
    "\n",
    "a=\"THE SUN RISES IN EAST\"\n",
    "print(\"The LAST 10 character of a =\",a[-1])"
   ]
  },
  {
   "cell_type": "code",
   "execution_count": 4,
   "id": "b10b0fe0",
   "metadata": {},
   "outputs": [
    {
     "name": "stdout",
     "output_type": "stream",
     "text": [
      "THE SUN RISES IN EASTTHE SUN RISES IN EAST\n"
     ]
    }
   ],
   "source": [
    "# 5. TO DOUBLE THE STRING (USE MULTIPLY(*) SYMBOL).\n",
    "# (+)= TO CONCATENATE STRINGS[APPENDING].\n",
    "# (*)= TO REPLICATE STRINGS ENTERED NO. OF TIMES.\n",
    "\n",
    "\n",
    "a=\"THE SUN RISES IN EAST\"\n",
    "print(a*2)"
   ]
  },
  {
   "cell_type": "code",
   "execution_count": 6,
   "id": "847e4317",
   "metadata": {},
   "outputs": [
    {
     "name": "stdout",
     "output_type": "stream",
     "text": [
      "THE \n",
      "SUN\n",
      "RISES\n",
      "IN EAST\n"
     ]
    }
   ],
   "source": [
    "# 6. STRING ASSIGNING .\n",
    "# ALL SINGLE(' '), DOUBLE(\" \"), TRIPLE(\"\"\" \"\"\" |''' ''') INVERTED COMAS CAN BE USED.\n",
    "\n",
    "\n",
    "a='THE '\n",
    "b=\"SUN\"\n",
    "c='''RISES'''\n",
    "d=\"\"\"IN EAST\"\"\"\n",
    "\n",
    "\n",
    "print(a)\n",
    "print(b)\n",
    "print(c)\n",
    "print(d)"
   ]
  },
  {
   "cell_type": "code",
   "execution_count": 7,
   "id": "5f416ae4",
   "metadata": {},
   "outputs": [],
   "source": [
    "# 7. TO DELETE THE STRING WE USE (DEL KEYWORD).\n",
    "\n",
    "a=\"THE SUN RISES IN EAST\"\n",
    "del a"
   ]
  },
  {
   "cell_type": "code",
   "execution_count": 8,
   "id": "beba4782",
   "metadata": {},
   "outputs": [
    {
     "name": "stdout",
     "output_type": "stream",
     "text": [
      "Welcome S SINGH your salary is  100000\n",
      "SNEHAL SINGH 150000\n",
      "Welcome SNEHAL SINGH SOLANKI your salary is 100000\n",
      "Welcome SNEHAL SINGH SOLANKI your salary is 100000\n",
      "Welcome 100000 your salary is SNEHAL SINGH SOLANKI\n"
     ]
    }
   ],
   "source": [
    "# 8. STRING MODIFICATION | FORMATING.\n",
    "\n",
    "a=\"S SINGH\"\n",
    "sal=100000\n",
    "print(\"Welcome\",a,\"your salary is \",sal)\n",
    "\n",
    "b=\"SNEHAL SINGH {}\" # {}---PLACE HOLDER-----WE HAD INFORMED BEFORE THAT WE WILL GIVE THE VALUE IN IT\n",
    "print(b.format(150000))#---HERE VALUE IS GIVEN\n",
    "\n",
    "c=\"SNEHAL SINGH SOLANKI\"\n",
    "sal=100000\n",
    "print(\"Welcome {} your salary is {}\".format(c,sal)) #----CAN ALSO BE WRITTEN IN THIS FORM\n",
    "print(\"Welcome {0} your salary is {1}\".format(c,sal))#---PLACE HOLDER{} CAN HAVE SOME NO. ALSO & THESE NO. \n",
    "print(\"Welcome {1} your salary is {0}\".format(c,sal))#---STATE THAT WHICH VALUE WILL COME FIRST"
   ]
  },
  {
   "cell_type": "code",
   "execution_count": 9,
   "id": "bed30afa",
   "metadata": {},
   "outputs": [
    {
     "name": "stdout",
     "output_type": "stream",
     "text": [
      "Upper Case = SNEHAL SINGH SOLANKI\n",
      "SNEHAL SINGH SOLANKI\n"
     ]
    }
   ],
   "source": [
    "# 9. STRINGS MODIFIERS-----USED TO MODIFY THE STRINGS.\n",
    "\n",
    "# a) .upper()----TO MODIFY THE STRING IN UPPER CASE CHARACTERS|ALPHABETS.\n",
    "\n",
    "a=\"snehal singh solanki\"\n",
    "print(\"Upper Case =\",a.upper())\n",
    "\n",
    "# IF WE WANT TO CHANGE THE CHARACTERS|ALPHABETS INTO UPPER-CASE IN MEMORY\n",
    "a=a.upper()\n",
    "print(a)\n"
   ]
  },
  {
   "cell_type": "code",
   "execution_count": 10,
   "id": "fc8407c3",
   "metadata": {},
   "outputs": [
    {
     "name": "stdout",
     "output_type": "stream",
     "text": [
      "Lower Case = snehal singh solanki\n",
      "snehal singh solanki\n"
     ]
    }
   ],
   "source": [
    "# b) .lower()----TO MODIFY THE STRING IN LOWER CASE CHARACTERS|ALPHABETS.\n",
    "\n",
    "a=\"SNEHAL SINGH SOLANKI\"\n",
    "print(\"Lower Case =\",a.lower())\n",
    "\n",
    "# IF WE WANT TO CHANGE THE CHARACTERS|ALPHABETS INTO LOWER-CASE IN MEMORY.\n",
    "a=a.lower()\n",
    "print(a)\n"
   ]
  },
  {
   "cell_type": "code",
   "execution_count": 13,
   "id": "da484894",
   "metadata": {},
   "outputs": [
    {
     "name": "stdout",
     "output_type": "stream",
     "text": [
      "Capitalize 1st character = Snehal\n"
     ]
    }
   ],
   "source": [
    "# c) .capitalize()----TO MODIFY THE STRING TO ONLY MAKE THE 1st LETTER OF STRING AS UPPER-CASE|CAPITAL CHARACTERS|ALPHABETS.\n",
    "\n",
    "a=\"snehal\"\n",
    "print(\"Capitalize 1st character =\",a.capitalize())"
   ]
  },
  {
   "cell_type": "code",
   "execution_count": 14,
   "id": "7f78f028",
   "metadata": {},
   "outputs": [
    {
     "name": "stdout",
     "output_type": "stream",
     "text": [
      "String without initial spaces = SNEHAL SINGH SOLANKI\n"
     ]
    }
   ],
   "source": [
    "# d) .strip()----TO MODIFY THE STRING TO NOT PRINT THE GIVEN INITIAL SPACE BY THE USER .\n",
    "\n",
    "a=\"                                                                SNEHAL SINGH SOLANKI\"\n",
    "print(\"String without initial spaces =\",a.strip())"
   ]
  },
  {
   "cell_type": "code",
   "execution_count": 15,
   "id": "5f30e2fd",
   "metadata": {},
   "outputs": [
    {
     "name": "stdout",
     "output_type": "stream",
     "text": [
      "Splitting of string= ['SNEHAL', 'SINGH', 'SOLANKI']\n",
      "Splitting of string= ['SNEHAL', 'SINGH', 'SOLANKI']\n"
     ]
    }
   ],
   "source": [
    "# e) .split()----TO MODIFY THE STRING TO MAKE THE WHOLE STRING SPLIT INTO PARTS . \n",
    "\n",
    "a=\"SNEHAL SINGH SOLANKI\"\n",
    "print(\"Splitting of string=\",a.split())\n",
    "print(\"Splitting of string=\",a.split(\" \")) # ----CAN ALSO BE WRITTEN AS"
   ]
  },
  {
   "cell_type": "code",
   "execution_count": 16,
   "id": "0ce46507",
   "metadata": {},
   "outputs": [
    {
     "name": "stdout",
     "output_type": "stream",
     "text": [
      "Length of string is  20\n"
     ]
    }
   ],
   "source": [
    "# 10. STRING METHODS -----STRING METHODS RETURNS THE NEW VALUES. THEY DO NOT CHANGE THE ORIGINAL STRING.\n",
    "# a) len()------TO FIND THE LENGTH OF STRING.\n",
    "\n",
    "a=\"SNEHAL SINGH SOLANKI\"\n",
    "print(\"Length of string is \",len(a))"
   ]
  },
  {
   "cell_type": "code",
   "execution_count": 19,
   "id": "a26f2557",
   "metadata": {},
   "outputs": [
    {
     "name": "stdout",
     "output_type": "stream",
     "text": [
      "String contain all alphabets  False\n"
     ]
    }
   ],
   "source": [
    "# b) .isalpha()------Returns True if all characters in the string are in the alphabet.\n",
    "\n",
    "a=\"SNEHAL\"# HERE IF SPACE [ 1 space | MANY spaces] i,e., (SNEHAL | S N E H A L ) IS ALSO GIVEN THEN IT WILL RETURN (FALSE). \n",
    "print(\"String contain all alphabets \",a.isalpha())    #  SO DON'T GIVE ANY SPACE."
   ]
  },
  {
   "cell_type": "code",
   "execution_count": 22,
   "id": "19561d48",
   "metadata": {},
   "outputs": [
    {
     "name": "stdout",
     "output_type": "stream",
     "text": [
      "String contain all digits  True\n"
     ]
    }
   ],
   "source": [
    "# c) .isdigit()------Returns True if all characters in the string are digits.\n",
    "\n",
    "a=\"1286\"# # HERE IF SPACE [ 1 space | MANY spaces] i,e., (1286 | 1 2 8 6 ) IS ALSO GIVEN THEN IT WILL RETURN (FALSE).\n",
    "print(\"String contain all digits \",a.isdigit())  #  SO DON'T GIVE ANY SPACE."
   ]
  },
  {
   "cell_type": "code",
   "execution_count": 23,
   "id": "b1bdc574",
   "metadata": {},
   "outputs": [
    {
     "name": "stdout",
     "output_type": "stream",
     "text": [
      "String contain all upper characters  True\n"
     ]
    }
   ],
   "source": [
    "# d) .isupper()------Returns True if all characters in the string are UPPER-CASE.\n",
    "\n",
    "a=\"SNEHAL\"# # HERE IF SPACE [ 1 space | MANY spaces] i,e., (SNEHAL |S N E H A L ) IS ALSO GIVEN THEN IT WILL RETURN (FALSE).\n",
    "print(\"String contain all upper-case characters \",a.isupper())  #  SO DON'T GIVE ANY SPACE."
   ]
  },
  {
   "cell_type": "code",
   "execution_count": 24,
   "id": "17ead6cd",
   "metadata": {},
   "outputs": [
    {
     "name": "stdout",
     "output_type": "stream",
     "text": [
      "String contain all lower-case characters  True\n"
     ]
    }
   ],
   "source": [
    "# e) .islower()------Returns True if all characters in the string are LOWER-CASE.\n",
    "\n",
    "a=\"snehal\"# # HERE IF SPACE [ 1 space | MANY spaces] i,e., (SNEHAL |S N E H A L ) IS ALSO GIVEN THEN IT WILL RETURN (FALSE).\n",
    "print(\"String contain all lower-case characters \",a.islower())  #  SO DON'T GIVE ANY SPACE."
   ]
  },
  {
   "cell_type": "code",
   "execution_count": 25,
   "id": "8eaa9cd9",
   "metadata": {},
   "outputs": [
    {
     "name": "stdout",
     "output_type": "stream",
     "text": [
      "String 'a' has character 'E' in place =  2\n"
     ]
    }
   ],
   "source": [
    "# f) .find(\" which value to be found \")-----------------------------------------------------------------------------------------\n",
    "# ---------Searches the string for a specified value and returns the position(PLACE-VALUE) of where it was found. --------------\n",
    "\n",
    "a=\"SNEHAL\"\n",
    "print(\"String 'a' has character 'E' in place = \",a.find(\"E\"))  "
   ]
  },
  {
   "cell_type": "code",
   "execution_count": 27,
   "id": "8f28c66b",
   "metadata": {},
   "outputs": [
    {
     "name": "stdout",
     "output_type": "stream",
     "text": [
      "Replaced String =  PING\n"
     ]
    }
   ],
   "source": [
    "# g) .replace(\"vale that has to be replaced\" , \"value that will replace\")-------------------------------------------------------\n",
    "# ---------------------- Returns a string where a specified value is replaced with a specified value. --------------------------\n",
    "\n",
    "a=\"KING\"\n",
    "print(\"Replaced String = \",a.replace(\"K\",\"P\"))  "
   ]
  },
  {
   "cell_type": "code",
   "execution_count": null,
   "id": "c396a67e",
   "metadata": {},
   "outputs": [],
   "source": []
  }
 ],
 "metadata": {
  "kernelspec": {
   "display_name": "Python 3 (ipykernel)",
   "language": "python",
   "name": "python3"
  },
  "language_info": {
   "codemirror_mode": {
    "name": "ipython",
    "version": 3
   },
   "file_extension": ".py",
   "mimetype": "text/x-python",
   "name": "python",
   "nbconvert_exporter": "python",
   "pygments_lexer": "ipython3",
   "version": "3.9.6"
  }
 },
 "nbformat": 4,
 "nbformat_minor": 5
}

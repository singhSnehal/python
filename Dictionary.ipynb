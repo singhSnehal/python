{
 "cells": [
  {
   "cell_type": "code",
   "execution_count": 1,
   "id": "1d6a5e1c",
   "metadata": {},
   "outputs": [
    {
     "name": "stdout",
     "output_type": "stream",
     "text": [
      "{1: 'Snehal', 2: 'Singh'}\n"
     ]
    }
   ],
   "source": [
    "my_dict={1:\"Snehal\",2:\"Singh\"}\n",
    "print(my_dict)"
   ]
  },
  {
   "cell_type": "code",
   "execution_count": 2,
   "id": "dcfc351b",
   "metadata": {},
   "outputs": [
    {
     "name": "stdout",
     "output_type": "stream",
     "text": [
      "['Volleyball', 'Football']\n"
     ]
    }
   ],
   "source": [
    "my_dict={\"fist_name\":\"Snehal\",\"last_name\":\"Singh\",\"hobby\":[\"Volleyball\",\"Football\"]}\n",
    "print(my_dict[\"hobby\"])"
   ]
  },
  {
   "cell_type": "code",
   "execution_count": 3,
   "id": "c6a7960b",
   "metadata": {},
   "outputs": [
    {
     "name": "stdout",
     "output_type": "stream",
     "text": [
      "{1: 'Snehal', 2: 'Singh', 'age': 19}\n"
     ]
    }
   ],
   "source": [
    "my_dict={1:\"Snehal\",2:\"Singh\"}\n",
    "my_dict[\"age\"]=19\n",
    "print(my_dict)"
   ]
  },
  {
   "cell_type": "code",
   "execution_count": 4,
   "id": "fe8e2b83",
   "metadata": {},
   "outputs": [
    {
     "name": "stdout",
     "output_type": "stream",
     "text": [
      "Name\n",
      "{1: 'Snehal', 2: 'Singh'}\n",
      "2\n"
     ]
    }
   ],
   "source": [
    "my_dict={1:\"Snehal\",2:\"Singh\",5:\"Name\"}\n",
    "print(my_dict.pop(5))\n",
    "print(my_dict)\n",
    "print(len(my_dict))"
   ]
  },
  {
   "cell_type": "code",
   "execution_count": 5,
   "id": "c447fd2c",
   "metadata": {},
   "outputs": [
    {
     "name": "stdout",
     "output_type": "stream",
     "text": [
      "(5, 'Name')\n",
      "{1: 'Snehal', 2: 'Singh'}\n"
     ]
    }
   ],
   "source": [
    "my_dict={1:\"Snehal\",2:\"Singh\",5:\"Name\"}\n",
    "print(my_dict.popitem())\n",
    "print(my_dict)"
   ]
  },
  {
   "cell_type": "code",
   "execution_count": 6,
   "id": "7528717e",
   "metadata": {},
   "outputs": [
    {
     "name": "stdout",
     "output_type": "stream",
     "text": [
      "{}\n"
     ]
    }
   ],
   "source": [
    "my_dict={1:\"Snehal\",2:\"Singh\",5:\"Name\"}\n",
    "my_dict.clear()\n",
    "print(my_dict)"
   ]
  },
  {
   "cell_type": "code",
   "execution_count": 7,
   "id": "0d79c2bc",
   "metadata": {},
   "outputs": [],
   "source": [
    "my_dict={1:\"Snehal\",2:\"Singh\",5:\"Name\"}\n",
    "del my_dict"
   ]
  },
  {
   "cell_type": "code",
   "execution_count": 8,
   "id": "cac2989e",
   "metadata": {},
   "outputs": [
    {
     "name": "stdout",
     "output_type": "stream",
     "text": [
      "Snehal\n",
      "Singh\n",
      "Name\n"
     ]
    }
   ],
   "source": [
    "my_dict={1:\"Snehal\",2:\"Singh\",5:\"Name\"}\n",
    "for i in my_dict.values():\n",
    "  print(i)"
   ]
  },
  {
   "cell_type": "code",
   "execution_count": 9,
   "id": "e8c6d7c9",
   "metadata": {},
   "outputs": [
    {
     "name": "stdout",
     "output_type": "stream",
     "text": [
      "1\n",
      "2\n",
      "5\n"
     ]
    }
   ],
   "source": [
    "my_dict={1:\"Snehal\",2:\"Singh\",5:\"Name\"}\n",
    "for i in my_dict.keys():\n",
    "  print(i)"
   ]
  },
  {
   "cell_type": "code",
   "execution_count": 10,
   "id": "ce9e1da0",
   "metadata": {},
   "outputs": [
    {
     "name": "stdout",
     "output_type": "stream",
     "text": [
      "1  :  Snehal\n",
      "2  :  Singh\n",
      "5  :  Name\n"
     ]
    }
   ],
   "source": [
    "my_dict={1:\"Snehal\",2:\"Singh\",5:\"Name\"}\n",
    "for i in my_dict.keys():\n",
    "  print(i ,\" : \",my_dict[i])"
   ]
  },
  {
   "cell_type": "code",
   "execution_count": 11,
   "id": "edf41cc8",
   "metadata": {},
   "outputs": [
    {
     "name": "stdout",
     "output_type": "stream",
     "text": [
      "1  :  Snehal\n",
      "2  :  Singh\n",
      "5  :  Name\n"
     ]
    }
   ],
   "source": [
    "my_dict={1:\"Snehal\",2:\"Singh\",5:\"Name\"}\n",
    "for x, y in my_dict.items():\n",
    "  print(x,\" : \", y)"
   ]
  },
  {
   "cell_type": "code",
   "execution_count": 12,
   "id": "059f90f0",
   "metadata": {},
   "outputs": [
    {
     "name": "stdout",
     "output_type": "stream",
     "text": [
      "{1: 1, 2: 4, 3: 9, 4: 16, 5: 25}\n"
     ]
    }
   ],
   "source": [
    "myDict = {x: x**2 for x in [1,2,3,4,5]}\n",
    "print (myDict)"
   ]
  },
  {
   "cell_type": "code",
   "execution_count": 14,
   "id": "f8e7be48",
   "metadata": {},
   "outputs": [
    {
     "name": "stdout",
     "output_type": "stream",
     "text": [
      "{1: 1, 2: 8, 3: 27, 4: 64, 5: 125}\n"
     ]
    }
   ],
   "source": [
    "myDict = {x: x**3 for x in [1,2,3,4,5]}\n",
    "print (myDict)"
   ]
  }
 ],
 "metadata": {
  "kernelspec": {
   "display_name": "Python 3 (ipykernel)",
   "language": "python",
   "name": "python3"
  },
  "language_info": {
   "codemirror_mode": {
    "name": "ipython",
    "version": 3
   },
   "file_extension": ".py",
   "mimetype": "text/x-python",
   "name": "python",
   "nbconvert_exporter": "python",
   "pygments_lexer": "ipython3",
   "version": "3.9.6"
  }
 },
 "nbformat": 4,
 "nbformat_minor": 5
}

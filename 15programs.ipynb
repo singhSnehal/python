{
 "cells": [
  {
   "cell_type": "code",
   "execution_count": 1,
   "id": "0cdf5225",
   "metadata": {},
   "outputs": [
    {
     "name": "stdout",
     "output_type": "stream",
     "text": [
      "10.45\n"
     ]
    }
   ],
   "source": [
    "#1. Display float number with 2 decimal places using print()\n",
    "a=10.45\n",
    "print(a)"
   ]
  },
  {
   "cell_type": "code",
   "execution_count": 2,
   "id": "5a207e59",
   "metadata": {},
   "outputs": [
    {
     "name": "stdout",
     "output_type": "stream",
     "text": [
      "200\n"
     ]
    }
   ],
   "source": [
    "#2. Takes two integer numbers and  return their product.\n",
    "a=10\n",
    "b=20\n",
    "product=a*b\n",
    "print(product)"
   ]
  },
  {
   "cell_type": "code",
   "execution_count": 4,
   "id": "c4b01a13",
   "metadata": {},
   "outputs": [
    {
     "name": "stdout",
     "output_type": "stream",
     "text": [
      "Volume of Sphere 4190.47619047619\n"
     ]
    }
   ],
   "source": [
    "#3. Write a Python program to get the volume of a sphere with radius 10.\n",
    "r=10\n",
    "#vol=(4/3)*(22/7)*r*r*r\n",
    "vol=(4/3)*(22/7)*r**3\n",
    "print(\"Volume of Sphere\",vol)"
   ]
  },
  {
   "cell_type": "code",
   "execution_count": 5,
   "id": "b1d341d9",
   "metadata": {},
   "outputs": [
    {
     "name": "stdout",
     "output_type": "stream",
     "text": [
      "Enter 1st no.10\n",
      "Enter 2nd no.20\n",
      "200\n"
     ]
    }
   ],
   "source": [
    "#4. Accept two numbers from the user and multiply them together.\n",
    "a=int(input(\"Enter 1st no.\"))\n",
    "b=int(input(\"Enter 2nd no.\"))\n",
    "product=a*b\n",
    "print(product)"
   ]
  },
  {
   "cell_type": "code",
   "execution_count": 6,
   "id": "8ba29e19",
   "metadata": {},
   "outputs": [
    {
     "name": "stdout",
     "output_type": "stream",
     "text": [
      "Enter a no.2\n",
      "14\n"
     ]
    }
   ],
   "source": [
    "#5. Write a Python program that accepts an integer (a) and computes the value of a+aa+aaa.\n",
    "a=int(input(\"Enter a no.\"))\n",
    "b=a+a*a+a*a*a\n",
    "print(b)"
   ]
  },
  {
   "cell_type": "code",
   "execution_count": 7,
   "id": "e2f7c0b0",
   "metadata": {},
   "outputs": [
    {
     "name": "stdout",
     "output_type": "stream",
     "text": [
      "Length of string a is  6\n"
     ]
    }
   ],
   "source": [
    "#6. Write a Python program to calculate the length of a string\n",
    "a=\"SNEHAL\"\n",
    "print(\"Length of string a is \",len(a))"
   ]
  },
  {
   "cell_type": "code",
   "execution_count": 9,
   "id": "992c15d9",
   "metadata": {},
   "outputs": [
    {
     "name": "stdout",
     "output_type": "stream",
     "text": [
      "<class 'int'>\n",
      "100\n"
     ]
    }
   ],
   "source": [
    "#7. Write a Python program to parse a string to Float & Integer\n",
    "str=\"100\"\n",
    "a=int(str)\n",
    "print(type(a))\n",
    "print(str)"
   ]
  },
  {
   "cell_type": "code",
   "execution_count": 10,
   "id": "356d3c0a",
   "metadata": {},
   "outputs": [
    {
     "name": "stdout",
     "output_type": "stream",
     "text": [
      "2000\n"
     ]
    }
   ],
   "source": [
    "#8. Given two integer numbers return their sum. If the sum is greater than 100, then return their product.\n",
    "a=10\n",
    "b=200\n",
    "sum=a+b\n",
    "if sum>100:\n",
    "    print(a*b)\n",
    "else:\n",
    "    print(sum)\n",
    "\n"
   ]
  },
  {
   "cell_type": "code",
   "execution_count": 12,
   "id": "f55ff238",
   "metadata": {},
   "outputs": [
    {
     "name": "stdout",
     "output_type": "stream",
     "text": [
      "Enter 1st no.4\n",
      "Enter 2nd no.4\n",
      "Enter 3rd no.4\n",
      "36\n"
     ]
    }
   ],
   "source": [
    "#9. Write a Python program to calculate the sum of three given numbers, if the values are not - equal then return four times of their sum\n",
    "a=int(input(\"Enter 1st no.\"))\n",
    "b=int(input(\"Enter 2nd no.\"))\n",
    "c=int(input(\"Enter 3rd no.\"))\n",
    "sum=a+b+c\n",
    "pro=sum*3\n",
    "if a==b==c:\n",
    "    print(pro)\n",
    "else:\n",
    "    print(sum)\n"
   ]
  },
  {
   "cell_type": "code",
   "execution_count": 14,
   "id": "49076fbd",
   "metadata": {},
   "outputs": [
    {
     "name": "stdout",
     "output_type": "stream",
     "text": [
      "Enter the no. of quantity1000\n",
      "Your Product Cost is   50000.0\n"
     ]
    }
   ],
   "source": [
    "#10. A shop will give discount of 50% if the cost of purchased quantity is more than 10000. \n",
    "#Ask user for quantity suppose, one unit will cost 100. Judge and print total cost for user.\n",
    "q=int(input(\"Enter the no. of quantity\"))\n",
    "amt=q*100\n",
    "dis=((amt*50)/100)\n",
    "t=amt-dis\n",
    "if amt>10000:\n",
    "    print(\"Your Product Cost is  \",t)\n",
    "else:\n",
    "    print(\"Your Product Cost is  \",amt)"
   ]
  },
  {
   "cell_type": "code",
   "execution_count": 16,
   "id": "93779f0d",
   "metadata": {},
   "outputs": [
    {
     "name": "stdout",
     "output_type": "stream",
     "text": [
      "Enter a no.6\n",
      "Entered no. is not divisible by 8 and 12\n"
     ]
    }
   ],
   "source": [
    "#11. To check whether a number is divisible by 8 and 12 or not.\n",
    "a=int(input(\"Enter a no.\"))\n",
    "if a%8==0 and a%12==0:\n",
    "    print(\"Entered no. is divisible by 8 and 12\")\n",
    "else:\n",
    "    print(\"Entered no. is not divisible by 8 and 12\")"
   ]
  },
  {
   "cell_type": "code",
   "execution_count": 24,
   "id": "da2e6e3d",
   "metadata": {},
   "outputs": [
    {
     "name": "stdout",
     "output_type": "stream",
     "text": [
      "Entered no. is even\n"
     ]
    }
   ],
   "source": [
    "#12. To check whether a given number is even or odd.\n",
    "a=int(input(\"Enter a no.\"))\n",
    "if a%2==0:\n",
    "    print(\"Entered no. is even\")\n",
    "else:\n",
    "    print(\"Entered no. is odd\")\n",
    "    "
   ]
  },
  {
   "cell_type": "code",
   "execution_count": 21,
   "id": "c0709147",
   "metadata": {},
   "outputs": [
    {
     "name": "stdout",
     "output_type": "stream",
     "text": [
      "Enter marks of Physics90\n",
      "Enter marks of Chemistry99\n",
      "Enter marks of Biology99\n",
      "Enter marks of Mathematics99\n",
      "Enter marks of Computer98\n",
      "Grade A\n"
     ]
    }
   ],
   "source": [
    "'''\n",
    "#13. Write a program to input marks of five subjects Physics, Chemistry, Biology, Mathematics and Computer. Calculate percentage and grade according to following:\n",
    "Percentage >= 90% : Grade A\n",
    "Percentage >= 80% : Grade B\n",
    "Percentage >= 70% : Grade C\n",
    "Percentage >= 60% : Grade D\n",
    "Percentage >= 40% : Grade E\n",
    "Percentage < 40% :  Grade F\n",
    "''' \n",
    "a=int(input(\"Enter marks of Physics\"))\n",
    "b=int(input(\"Enter marks of Chemistry\"))\n",
    "c=int(input(\"Enter marks of Biology\"))\n",
    "d=int(input(\"Enter marks of Mathematics\"))\n",
    "e=int(input(\"Enter marks of Computer\"))\n",
    "total=a+b+c+d+e\n",
    "avg=total/5\n",
    "if avg>=90:\n",
    "    print(\"Grade A\")\n",
    "elif avg>=80:\n",
    "    print(\"Grade B\")\n",
    "elif avg>=70:\n",
    "    print(\"Grade C\")\n",
    "elif avg>=60:\n",
    "    print(\"Grade D\")\n",
    "elif avg>=40:\n",
    "    print(\"Grade E\")\n",
    "else:\n",
    "    print(\"Grade F\")\n"
   ]
  },
  {
   "cell_type": "code",
   "execution_count": 23,
   "id": "3d0a21ef",
   "metadata": {},
   "outputs": [
    {
     "name": "stdout",
     "output_type": "stream",
     "text": [
      "Enter age of person 1 : 18\n",
      "Enter age of person 2 : 16\n",
      "Enter age of person 3 : 20\n",
      "Person 3 is oldest\n",
      "Person 2 is youngest\n"
     ]
    }
   ],
   "source": [
    "#14. Take input of age of 3 people by user and determine oldest and youngest among them.\n",
    "person1 = int(input(\"Enter age of person 1 : \"))\n",
    "person2 = int(input(\"Enter age of person 2 : \"))\n",
    "person3 = int(input(\"Enter age of person 3 : \"))\n",
    "\n",
    "# check oldest\n",
    "if person1 > person2 and person1 > person3:\n",
    "    print(\"Person 1 is oldest\")\n",
    "elif person2 > person1 and person2 > person3:\n",
    "    print(\"Person 2 is oldest\")\n",
    "elif person3 > person1 and person3 > person2:\n",
    "    print(\"Person 3 is oldest\")\n",
    "\n",
    "# check youngest\n",
    "if person1 < person2 and person1 < person3:\n",
    "    print(\"Person 1 is youngest\")\n",
    "elif person2 < person1 and person2 < person3:\n",
    "    print(\"Person 2 is youngest\")\n",
    "elif person3 < person1 and person3 < person2:\n",
    "    print(\"Person 3 is youngest\")"
   ]
  },
  {
   "cell_type": "code",
   "execution_count": 25,
   "id": "1f207fba",
   "metadata": {},
   "outputs": [
    {
     "name": "stdout",
     "output_type": "stream",
     "text": [
      "Enter total units consumed: 50\n",
      "Electricity Bill  30.0\n"
     ]
    }
   ],
   "source": [
    "'''\n",
    "15. Write a program to input electricity unit charges and calculate total electricity bill according to the given condition:\n",
    "For first 50 units Rs. 0.50/unit\n",
    "For next 100 units Rs. 0.75/unit\n",
    "For next 100 units Rs. 1.20/unit\n",
    "For unit above 250 Rs. 1.50/unit\n",
    "An additional surcharge of 20% is added to the bill\n",
    "'''\n",
    "unit=int(input(\"Enter total units consumed: \"));\n",
    "if(unit <= 50):\n",
    "    amt = unit * 0.50\n",
    "elif(unit <= 150):\n",
    "    amt = 25 + ((unit-50) * 0.75)    \n",
    "elif(unit <= 250):\n",
    "    amt = 100 + ((unit-150) * 1.20)\n",
    "else:\n",
    "    amt = 220 + ((unit-250) * 1.50)\n",
    "    \n",
    "sur_charge = amt * 0.20\n",
    "total_amt  = amt + sur_charge\n",
    "\n",
    "print(\"Electricity Bill \", total_amt)\n",
    "\n",
    "\n"
   ]
  },
  {
   "cell_type": "code",
   "execution_count": null,
   "id": "5b6c37ec",
   "metadata": {},
   "outputs": [],
   "source": []
  }
 ],
 "metadata": {
  "kernelspec": {
   "display_name": "Python 3 (ipykernel)",
   "language": "python",
   "name": "python3"
  },
  "language_info": {
   "codemirror_mode": {
    "name": "ipython",
    "version": 3
   },
   "file_extension": ".py",
   "mimetype": "text/x-python",
   "name": "python",
   "nbconvert_exporter": "python",
   "pygments_lexer": "ipython3",
   "version": "3.9.6"
  }
 },
 "nbformat": 4,
 "nbformat_minor": 5
}

{
 "cells": [
  {
   "cell_type": "code",
   "execution_count": 1,
   "id": "4dc42c79",
   "metadata": {},
   "outputs": [
    {
     "name": "stdout",
     "output_type": "stream",
     "text": [
      "The original string is : Brotherhood\n",
      "The maximum of all characters in Brotherhood is : o\n"
     ]
    }
   ],
   "source": [
    "# 45 Write a Python program to find the maximum occurring character in a given string.\n",
    "\n",
    "test_str = \"Brotherhood\"\n",
    "print (\"The original string is : \" + test_str)\n",
    "  \n",
    "all_freq = {}\n",
    "for i in test_str:\n",
    "    if i in all_freq:\n",
    "        all_freq[i] += 1\n",
    "    else:\n",
    "        all_freq[i] = 1\n",
    "res = max(all_freq, key = all_freq.get) \n",
    "print (\"The maximum of all characters in Brotherhood is : \" + str(res))"
   ]
  },
  {
   "cell_type": "code",
   "execution_count": 2,
   "id": "d0468d89",
   "metadata": {},
   "outputs": [
    {
     "name": "stdout",
     "output_type": "stream",
     "text": [
      "AcropoliS CollegE IndorE\n",
      "SnehaL SingH\n"
     ]
    }
   ],
   "source": [
    "# 46 Write a Python program to capitalize first and last letters of each word of a given string.\n",
    "\n",
    "def capitalize_first_last_letters(str1):\n",
    "     str1 = result = str1.title()\n",
    "     result =  \"\"\n",
    "     for word in str1.split():\n",
    "        result += word[:-1] + word[-1].upper() + \" \"\n",
    "     return result[:-1]  \n",
    "     \n",
    "print(capitalize_first_last_letters(\"acropolis college indore\"))\n",
    "print(capitalize_first_last_letters(\"snehal singh\"))"
   ]
  },
  {
   "cell_type": "code",
   "execution_count": 3,
   "id": "0bb519a1",
   "metadata": {},
   "outputs": [
    {
     "name": "stdout",
     "output_type": "stream",
     "text": [
      "15\n",
      "10\n"
     ]
    }
   ],
   "source": [
    "# 47 Write a Python program to compute sum of digits of a given string.\n",
    "\n",
    "def sum_digits_string(str1):\n",
    "    sum_digit = 0\n",
    "    for x in str1:\n",
    "        if x.isdigit() == True:\n",
    "            z = int(x)\n",
    "            sum_digit = sum_digit + z\n",
    "\n",
    "    return sum_digit\n",
    "     \n",
    "print(sum_digits_string(\"123abcd45\"))\n",
    "print(sum_digits_string(\"abcd1234\"))"
   ]
  },
  {
   "cell_type": "code",
   "execution_count": 4,
   "id": "4c1b22aa",
   "metadata": {},
   "outputs": [
    {
     "name": "stdout",
     "output_type": "stream",
     "text": [
      "\n",
      "Longest word:  ACROPOLIS\n",
      "Length of the longest word:  9\n"
     ]
    }
   ],
   "source": [
    "#48)Write a Python function that takes a list of words and returns the length of the longest one.\n",
    "\n",
    "def find_longest_word(words_list):\n",
    "    word_len = []\n",
    "    for n in words_list:\n",
    "        word_len.append((len(n), n))\n",
    "    word_len.sort()\n",
    "    return word_len[-1][0], word_len[-1][1]\n",
    "result = find_longest_word([\"CS\", \"ACROPOLIS\", \"CSIT\"])\n",
    "print(\"\\nLongest word: \",result[1])\n",
    "print(\"Length of the longest word: \",result[0])"
   ]
  },
  {
   "cell_type": "code",
   "execution_count": 5,
   "id": "e888d04a",
   "metadata": {},
   "outputs": [
    {
     "name": "stdout",
     "output_type": "stream",
     "text": [
      "17\n"
     ]
    }
   ],
   "source": [
    "#49.Write a function x(n) for computing an element in the sequence xn=n^2+1. Call the function for n=4 and write out the result.\n",
    "\n",
    "def x(n):\n",
    "  return(n**2 + 1)\n",
    "\n",
    "print(x(4))"
   ]
  },
  {
   "cell_type": "code",
   "execution_count": 6,
   "id": "c3f862b9",
   "metadata": {},
   "outputs": [
    {
     "name": "stdout",
     "output_type": "stream",
     "text": [
      "0.8475\n"
     ]
    }
   ],
   "source": [
    "#50. Take the following Python code that stores a string: ‘str = 'Y-tatata-acropolis: 0.8475'. Use find and string slicing to extract the portion \n",
    "#of the string after the colon character and then use the float function to convert the extracted string into a floating point number.\n",
    "\n",
    "string = 'Y-tatata-acropolis: 0.8475'\n",
    "col_pos = string.find(':')                  # Finds the colon character\n",
    "number = string[col_pos + 1:]                 # Extracts portion after colon\n",
    "confidence = float(number)                  # Converts to floating point number\n",
    "print(confidence)"
   ]
  },
  {
   "cell_type": "code",
   "execution_count": 7,
   "id": "d676b24b",
   "metadata": {},
   "outputs": [
    {
     "name": "stdout",
     "output_type": "stream",
     "text": [
      "40\n"
     ]
    }
   ],
   "source": [
    "#51. Write a function that returns the middle value among three integers. (Hint: make use of min() and max()). Write code to test this function with different inputs.\n",
    "\n",
    "def middleOfThree(a, b, c) :\n",
    "\tif a > b :\n",
    "\t\tif (b > c):\n",
    "\t\t\treturn b\n",
    "\t\telif (a > c) :\n",
    "\t\t\treturn c\n",
    "\t\telse :\n",
    "\t\t\treturn a\n",
    "\telse:\n",
    "\t\tif (a > c) :\n",
    "\t\t\treturn a\n",
    "\t\telif (b > c) :\n",
    "\t\t\treturn c\n",
    "\t\telse :\n",
    "\t\t\treturn b\n",
    "\n",
    "a = 20\n",
    "b = 45\n",
    "c = 40\n",
    "print( middleOfThree(a, b, c) )"
   ]
  },
  {
   "cell_type": "code",
   "execution_count": 8,
   "id": "bdb8a3ed",
   "metadata": {},
   "outputs": [
    {
     "name": "stdout",
     "output_type": "stream",
     "text": [
      "6\n",
      "3\n",
      "8\n",
      "15\n"
     ]
    }
   ],
   "source": [
    "#52.Write a function that computes the area of a rectangle. Then, write a second function that calls this function three times to compute the surface area of a rectangular solid.\n",
    "def secondfun():\n",
    "  for i in range(3):\n",
    "    print(area(i+1,i+3))\n",
    "\n",
    "def area(h,w):\n",
    "  area=h*w\n",
    "  return area\n",
    "height=2\n",
    "width=3\n",
    "print(area(height,width))\n",
    "\n",
    "secondfun()"
   ]
  },
  {
   "cell_type": "code",
   "execution_count": 9,
   "id": "b594e372",
   "metadata": {},
   "outputs": [
    {
     "name": "stdout",
     "output_type": "stream",
     "text": [
      "19\n"
     ]
    }
   ],
   "source": [
    "#53.Create an outer function that will accept three parameters, a, b and c. Create an inner function inside an outer function that will calculate the\n",
    "#addition of a, b and c. At last, an outer function will add 5 into addition and return it \n",
    "def num1(x,y,z):\n",
    "  def num2(a,b,c):\n",
    "    return a+b+c\n",
    "  outer=num2(x,y,z)+5\n",
    "  return outer\n",
    "\n",
    "print(num1(5,4,5))"
   ]
  },
  {
   "cell_type": "code",
   "execution_count": 10,
   "id": "5cbe9eb2",
   "metadata": {},
   "outputs": [
    {
     "name": "stdout",
     "output_type": "stream",
     "text": [
      "the product of numbers from 10 to 100 : is 257182031095525112107857249934597388918419224714455526533820998388496472644482792132224051962512451185663850090463028434334174412800000000000000000000000\n"
     ]
    }
   ],
   "source": [
    "#54.Write a program to create a recursive function to calculate the product of numbers from 10 to 100.\n",
    "\n",
    "def recur(n):\n",
    "   if n == 10:\n",
    "       return n\n",
    "   else:\n",
    "       return n*recur(n-1)\n",
    "\n",
    "print(\"the product of numbers from 10 to 100 : \" \"is\", recur(100))"
   ]
  },
  {
   "cell_type": "code",
   "execution_count": 11,
   "id": "0bc4b490",
   "metadata": {},
   "outputs": [
    {
     "name": "stdout",
     "output_type": "stream",
     "text": [
      "Input a number : 5\n",
      "120\n"
     ]
    }
   ],
   "source": [
    "#55.Write a Python function to calculate the factorial of a number (a non-negative integer). The function accepts the number as an argument.\n",
    "def factorial(n):\n",
    "    if n == 0:\n",
    "        return 1\n",
    "    else:\n",
    "        return n * factorial(n-1)\n",
    "n=int(input(\"Input a number : \"))\n",
    "print(factorial(n))"
   ]
  },
  {
   "cell_type": "code",
   "execution_count": 12,
   "id": "1bba8a3c",
   "metadata": {},
   "outputs": [
    {
     "name": "stdout",
     "output_type": "stream",
     "text": [
      "126,189,252,315,378,441\n"
     ]
    }
   ],
   "source": [
    "#56.Write a Python function to display all the multiples of  7 & 9 within the range 100 to 500.\n",
    "nl=[]\n",
    "for x in range(100, 501):\n",
    "    if (x%7==0) and (x%9==0):\n",
    "        nl.append(str(x))\n",
    "print (','.join(nl))"
   ]
  },
  {
   "cell_type": "code",
   "execution_count": 13,
   "id": "38ae0bcf",
   "metadata": {},
   "outputs": [
    {
     "name": "stdout",
     "output_type": "stream",
     "text": [
      "27 is not a prime number\n"
     ]
    }
   ],
   "source": [
    "#57.Write a Python function  to check whether the given integer is a prime number or not.\n",
    "num = 27\n",
    "flag = False\n",
    "def prime(n):\n",
    "  flag1=False\n",
    "  if n > 1:\n",
    "    for i in range(2, n):\n",
    "        if (n % i) == 0:\n",
    "            flag1 = True\n",
    "            break\n",
    "  return flag1\n",
    "\n",
    "flag=prime(num)\n",
    "if flag:\n",
    "    print(num, \"is not a prime number\")\n",
    "else:\n",
    "    print(num, \"is a prime number\")"
   ]
  },
  {
   "cell_type": "code",
   "execution_count": 14,
   "id": "c9d24c3f",
   "metadata": {},
   "outputs": [
    {
     "name": "stdout",
     "output_type": "stream",
     "text": [
      "Enter a number: 121\n",
      "121 is not an Armstrong number\n"
     ]
    }
   ],
   "source": [
    "#58. Write a Python function that checks whether a passed interger is armstrong or not.\n",
    "\n",
    "n = int(input(\"Enter a number: \"))\n",
    "\n",
    "def armstrong(num):\n",
    "  sum = 0\n",
    "  temp = num\n",
    "  while temp > 0:\n",
    "    digit = temp % 10\n",
    "    sum += digit ** 3\n",
    "    temp //= 10\n",
    "  return sum\n",
    "\n",
    "summ=armstrong(n)\n",
    "if n == summ:\n",
    "   print(n,\"is an Armstrong number\")\n",
    "else:\n",
    "   print(n,\"is not an Armstrong number\")"
   ]
  },
  {
   "cell_type": "code",
   "execution_count": 15,
   "id": "709456d0",
   "metadata": {},
   "outputs": [
    {
     "name": "stdout",
     "output_type": "stream",
     "text": [
      "Inside the method A.\n",
      "Inside the method B.\n"
     ]
    }
   ],
   "source": [
    "#59. Program to return a function from another function.\n",
    "\n",
    "def B():\n",
    "\tprint(\"Inside the method B.\")\n",
    "\t\n",
    "def A():\n",
    "\tprint(\"Inside the method A.\")\n",
    "\treturn B\n",
    "\n",
    "returned_function = A()\n",
    "\n",
    "returned_function()"
   ]
  },
  {
   "cell_type": "code",
   "execution_count": 16,
   "id": "56c1c50e",
   "metadata": {},
   "outputs": [
    {
     "name": "stdout",
     "output_type": "stream",
     "text": [
      "Enter a command: Yes\n",
      "Start Process\n"
     ]
    }
   ],
   "source": [
    "#60. First, def a function, start_process, that takes one argument p. Then, if the start_process function receives an p equal to \"Yes\",\n",
    "# it should return \"Start Process\" Alternatively, elif p is equal to \"No\", then the function should return \"Start Process Aborted\".\n",
    "#  Finally, if start_process gets anything other than those inputs, the function should return \"Sorry for the input\".\n",
    "\n",
    "def start_process(p):\n",
    "  if p==\"Yes\":\n",
    "    return \"Start Process\"\n",
    "  elif p==\"No\":\n",
    "    return \"Start Process Aborted\"\n",
    "  else:\n",
    "    return \"Sorry for the input\"\n",
    "\n",
    "command= input(\"Enter a command: \")\n",
    "print(start_process(command))"
   ]
  },
  {
   "cell_type": "code",
   "execution_count": 17,
   "id": "69be6d3d",
   "metadata": {},
   "outputs": [
    {
     "name": "stdout",
     "output_type": "stream",
     "text": [
      "the absolute value :  33.2\n",
      "No value\n"
     ]
    }
   ],
   "source": [
    "#61. First, def a function called calculate_distance, with one argument (choose any argument name you like).\n",
    "#   If the type of the argument is either int or float, the function should return the absolute value of the function input.\n",
    "#   Otherwise, the function should return \"No value\". Check if it works calling the function with  9.6 and \"what?\".\n",
    "\n",
    "def calculate_distance(argument):\n",
    "  if type(argument) == int or type(argument) == float:\n",
    "      return abs(argument)\n",
    "  else:\n",
    "      print(\"No value\")\n",
    "\n",
    "print(\"the absolute value : \" ,calculate_distance(33.20))\n",
    "\n",
    "calculate_distance(\"what?\")"
   ]
  },
  {
   "cell_type": "code",
   "execution_count": 18,
   "id": "bb617508",
   "metadata": {},
   "outputs": [
    {
     "name": "stdout",
     "output_type": "stream",
     "text": [
      "Sum of all elements in given list:  74\n"
     ]
    }
   ],
   "source": [
    "#62.Python program to display the sum of input (n) numbers using a list.\n",
    "\n",
    "list1 = [11, 5, 17, 18, 23]\n",
    "total=0\n",
    "for i in range(0, len(list1)):\n",
    "    total = total + list1[i]\n",
    " \n",
    "print(\"Sum of all elements in given list: \", total)"
   ]
  },
  {
   "cell_type": "code",
   "execution_count": 19,
   "id": "e3182b5b",
   "metadata": {},
   "outputs": [
    {
     "name": "stdout",
     "output_type": "stream",
     "text": [
      "Enter 10 Elements of List: \n",
      "5\n",
      "5\n",
      "6\n",
      "3\n",
      "1\n",
      "2\n",
      "0\n",
      "8\n",
      "9\n",
      "7\n",
      "Enter an Element to Insert at End: \n",
      "3\n",
      "\n",
      "The New List is: \n",
      "['5', '5', '6', '3', '1', '2', '0', '8', '9', '7', '3']\n"
     ]
    }
   ],
   "source": [
    "#63)Python program to insert a number to given position in a list.\n",
    "print(\"Enter 10 Elements of List: \")\n",
    "nums = []\n",
    "for i in range(10):\n",
    "    nums.insert(i, input())\n",
    "print(\"Enter an Element to Insert at End: \")\n",
    "elem = input()\n",
    "nums.append(elem)\n",
    "print(\"\\nThe New List is: \")\n",
    "print(nums)"
   ]
  },
  {
   "cell_type": "code",
   "execution_count": 20,
   "id": "ea4015fa",
   "metadata": {},
   "outputs": [
    {
     "name": "stdout",
     "output_type": "stream",
     "text": [
      "Enter a number: 8\n",
      "Enter a number: 6\n",
      "Enter a number: 9\n",
      "Enter a number: 23\n",
      "Enter a number: 10\n",
      "Enter a number: done\n",
      "Maximum:  23.0\n",
      "Minimum:  6.0\n"
     ]
    }
   ],
   "source": [
    "#64. Write the program that prompts the user for a list of numbers and prints out the maximum and minimum of the \n",
    "# numbers at the end when the user enters “done”. Write the program to store the numbers the user enters in a list and \n",
    "# use the max() and min() functions to compute the maximum and minimum numbers after the loop completes.\n",
    "\n",
    "my_list = []                     \n",
    "while True:\n",
    "    number = 0.0\n",
    "    input_number = input('Enter a number: ')\n",
    "    if input_number == 'done':\n",
    "        break\n",
    "\n",
    "    try:\n",
    "        number = float(input_number)\n",
    "    except ValueError:\n",
    "        print('Invalid input')\n",
    "        quit()\n",
    "\n",
    "    my_list.append(number)\n",
    "\n",
    "if my_list:\n",
    "    print('Maximum: ', max(my_list) or None)\n",
    "    print('Minimum: ', min(my_list) or None)"
   ]
  },
  {
   "cell_type": "code",
   "execution_count": 21,
   "id": "64bda6ef",
   "metadata": {},
   "outputs": [
    {
     "name": "stdout",
     "output_type": "stream",
     "text": [
      "Enter a number: 9\n",
      "Enter a number: 45\n",
      "Enter a number: 63\n",
      "Enter a number: 78\n",
      "Enter a number: done\n",
      "Maximum:  78.0\n",
      "Minimum:  9.0\n"
     ]
    }
   ],
   "source": [
    "#65.Write another program that prompts for a list of numbers as above and at the end prints out both the maximum and minimum of the numbers.\n",
    "my_list = []                     \n",
    "while True:\n",
    "    number = 0.0\n",
    "    input_number = input('Enter a number: ')\n",
    "    if input_number == 'done':\n",
    "        break\n",
    "\n",
    "    try:\n",
    "        number = float(input_number)\n",
    "    except ValueError:\n",
    "        print('Invalid input')\n",
    "        quit()\n",
    "\n",
    "    my_list.append(number)\n",
    "\n",
    "if my_list:\n",
    "    print('Maximum: ', max(my_list) or None)\n",
    "    print('Minimum: ', min(my_list) or None)"
   ]
  },
  {
   "cell_type": "code",
   "execution_count": 22,
   "id": "ccd0e015",
   "metadata": {},
   "outputs": [
    {
     "name": "stdout",
     "output_type": "stream",
     "text": [
      "Enter 10 Elements: \n",
      "9\n",
      "5\n",
      "6\n",
      "3\n",
      "21\n",
      "7\n",
      "8\n",
      "15\n",
      "6\n",
      "2\n",
      "\n",
      "Enter the Value to Delete: \n",
      "21\n",
      "['9', '5', '6', '3', '7', '8', '15', '6', '2']\n"
     ]
    }
   ],
   "source": [
    "#66.Python program to delete an element from a list by index which is given by the user.\n",
    "\n",
    "print(\"Enter 10 Elements: \")\n",
    "arr = []\n",
    "for i in range(10):\n",
    "    arr.append(input())\n",
    "\n",
    "print(\"\\nEnter the Value to Delete: \")\n",
    "val = input()\n",
    "\n",
    "arr.remove(val)\n",
    "print(arr)"
   ]
  },
  {
   "cell_type": "code",
   "execution_count": 23,
   "id": "b97cf17d",
   "metadata": {},
   "outputs": [
    {
     "name": "stdout",
     "output_type": "stream",
     "text": [
      "['Red', 'Black', 'Pink']\n"
     ]
    }
   ],
   "source": [
    "#67)Write a Python program to print a specified list after removing the 1st, 2nd and 5th elements.\n",
    "color = ['Red', 'Green', 'White', 'Black', 'Pink', 'Yellow']\n",
    "color = [x for (i,x) in enumerate(color) if i not in (1,2,5)]\n",
    "print(color)"
   ]
  },
  {
   "cell_type": "code",
   "execution_count": 24,
   "id": "342de0af",
   "metadata": {},
   "outputs": [
    {
     "name": "stdout",
     "output_type": "stream",
     "text": [
      "Original list:\n",
      "[10, 20, 30, 40]\n",
      "S\n",
      "[[], [10], [20], [30], [40], [10, 20], [10, 30], [10, 40], [20, 30], [20, 40], [30, 40], [10, 20, 30], [10, 20, 40], [10, 30, 40], [20, 30, 40], [10, 20, 30, 40]]\n",
      "Sublists of the said list:\n",
      "[[], [10], [20], [30], [40], [10, 20], [10, 30], [10, 40], [20, 30], [20, 40], [30, 40], [10, 20, 30], [10, 20, 40], [10, 30, 40], [20, 30, 40], [10, 20, 30, 40]]\n",
      "\n",
      "Original list:\n",
      "['X', 'Y', 'Z']\n",
      "Sublists of the said list:\n",
      "[[], ['X'], ['Y'], ['Z'], ['X', 'Y'], ['X', 'Z'], ['Y', 'Z'], ['X', 'Y', 'Z']]\n"
     ]
    }
   ],
   "source": [
    "#68)Write a Python program to generate all sublists of a list.\n",
    "from itertools import combinations\n",
    "def sub_lists(my_list):\n",
    "\tsubs = []\n",
    "\tfor i in range(0, len(my_list)+1):\n",
    "\t  temp = [list(x) for x in combinations(my_list, i)]\n",
    "\t  if len(temp)>0:\n",
    "\t    subs.extend(temp)\n",
    "\treturn subs\n",
    "\n",
    "\n",
    "l1 = [10, 20, 30, 40]\n",
    "l2 = ['X', 'Y', 'Z']\n",
    "print(\"Original list:\")\n",
    "print(l1)\n",
    "print(\"S\")\n",
    "print(sub_lists(l1))\n",
    "print(\"Sublists of the said list:\")\n",
    "print(sub_lists(l1))\n",
    "print(\"\\nOriginal list:\")\n",
    "print(l2)\n",
    "print(\"Sublists of the said list:\")\n",
    "print(sub_lists(l2))"
   ]
  },
  {
   "cell_type": "code",
   "execution_count": 25,
   "id": "b6240288",
   "metadata": {},
   "outputs": [
    {
     "name": "stdout",
     "output_type": "stream",
     "text": [
      "True\n",
      "False\n"
     ]
    }
   ],
   "source": [
    "#69)Write a Python program to find all the values in a list are greater than a given number.\n",
    "list1 = [220, 330, 500]\n",
    "list2 = [12, 17, 21]\n",
    "print(all(x >= 200 for x in list1))\n",
    "print(all(x >= 15 for x in list2))"
   ]
  },
  {
   "cell_type": "code",
   "execution_count": 26,
   "id": "2f736d97",
   "metadata": {},
   "outputs": [
    {
     "name": "stdout",
     "output_type": "stream",
     "text": [
      "10 4 66 "
     ]
    }
   ],
   "source": [
    "#70)Python program to find the even numbers in a List.\n",
    "list1 = [10, 21, 4, 45, 66, 93]\n",
    "for num in list1:\n",
    "    if num % 2 == 0:\n",
    "        print(num, end=\" \")"
   ]
  }
 ],
 "metadata": {
  "kernelspec": {
   "display_name": "Python 3 (ipykernel)",
   "language": "python",
   "name": "python3"
  },
  "language_info": {
   "codemirror_mode": {
    "name": "ipython",
    "version": 3
   },
   "file_extension": ".py",
   "mimetype": "text/x-python",
   "name": "python",
   "nbconvert_exporter": "python",
   "pygments_lexer": "ipython3",
   "version": "3.9.6"
  }
 },
 "nbformat": 4,
 "nbformat_minor": 5
}

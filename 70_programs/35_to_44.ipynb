{
 "cells": [
  {
   "cell_type": "code",
   "execution_count": 1,
   "id": "9c0aef5c",
   "metadata": {},
   "outputs": [
    {
     "name": "stdout",
     "output_type": "stream",
     "text": [
      "Enter 1st string :abc\n",
      "Enter 2nd string :xyz\n",
      "xbc ayz\n"
     ]
    }
   ],
   "source": [
    "# 35. Write a Python program to get a single string from two given strings,\n",
    "#     separated by a space and swap the first characters of each string.\n",
    "# Sample String : 'abc', 'xyz' \n",
    "# Expected Result : 'xbc ayz'\n",
    "\n",
    "str1 = input(\"Enter 1st string :\")\n",
    "str2 = input(\"Enter 2nd string :\") \n",
    "new_str1 = str2[0] + str1[1: ]\n",
    "new_str2 = str1[0] + str2[1: ]\n",
    "print(new_str1 + \" \" + new_str2)"
   ]
  },
  {
   "cell_type": "code",
   "execution_count": 2,
   "id": "210c8dc5",
   "metadata": {},
   "outputs": [
    {
     "name": "stdout",
     "output_type": "stream",
     "text": [
      "Enter a string : acropolis\n",
      "acropolisCS\n"
     ]
    }
   ],
   "source": [
    "# 36. Write a Python program to add 'polis' at the end of a given string (length should be at least 3).\n",
    "#   If the given string already ends with 'polis' then add 'polisCS' instead.\n",
    "#   If the string length of the given string is less than 3, leave it unchanged. \n",
    "#  Sample String : 'abc'\n",
    "#  Expected Result : 'abcpolisCS' \n",
    "#  Sample String : 'Acropolis'\n",
    "#  Expected Result : 'AcropolisCS'\n",
    "\n",
    "str = input(\"Enter a string : \")\n",
    "\n",
    "if len(str)<3:\n",
    "    print(str)\n",
    "elif str[-5:]=='polis':\n",
    "    print(str+'CS')\n",
    "else:\n",
    "    print(str+'polis')"
   ]
  },
  {
   "cell_type": "code",
   "execution_count": 9,
   "id": "367b7fed",
   "metadata": {},
   "outputs": [
    {
     "name": "stdout",
     "output_type": "stream",
     "text": [
      "Enter a string :google.com\n",
      "{'g': 2, 'o': 3, 'l': 1, 'e': 1, '.': 1, 'c': 1, 'm': 1}\n"
     ]
    }
   ],
   "source": [
    "# 37. Write a Python program to count the number of characters (character frequency) in a string. \n",
    "#     Sample String : google.com'\n",
    "#     Expected Result : {'o': 3, 'g': 2, '.': 1, 'e': 1, 'l': 1, 'm': 1, 'c': 1}\n",
    "\n",
    "str1 = input(\"Enter a string :\")\n",
    "freq = {}\n",
    "for i in str1:\n",
    "    if i in freq:\n",
    "        freq[i]+= 1\n",
    "    else:\n",
    "        freq[i] = 1\n",
    "\n",
    "print((freq))            \n"
   ]
  },
  {
   "cell_type": "code",
   "execution_count": 10,
   "id": "b505be87",
   "metadata": {},
   "outputs": [
    {
     "name": "stdout",
     "output_type": "stream",
     "text": [
      "Enter a string :apple\n",
      "alppe\n"
     ]
    }
   ],
   "source": [
    "# 38. Write a Python program to change a given string to a new string where the second and last chars have been exchanged.\n",
    "\n",
    "str1 = input(\"Enter a string :\")\n",
    "new_str = str1[0] + str1[-2] + str1[2:-2] + str1[1] + str1[-1]\n",
    "print(new_str)"
   ]
  },
  {
   "cell_type": "code",
   "execution_count": 11,
   "id": "e899bb79",
   "metadata": {},
   "outputs": [
    {
     "name": "stdout",
     "output_type": "stream",
     "text": [
      "Enter a string: banana\n",
      "bnn\n"
     ]
    }
   ],
   "source": [
    "# 39. Write a Python program to remove the characters which have even index values of a given string.\n",
    "\n",
    "str1 = input(\"Enter a string: \")\n",
    "new_str = ''\n",
    "for i in range(len(str1)):\n",
    "    if i%2==0:\n",
    "        new_str = new_str + str1[i]\n",
    "        \n",
    "print(new_str)    "
   ]
  },
  {
   "cell_type": "code",
   "execution_count": 12,
   "id": "e88c1bf1",
   "metadata": {},
   "outputs": [
    {
     "name": "stdout",
     "output_type": "stream",
     "text": [
      "Enter a string :Snehal Singh Solanki\n",
      "In lower case :snehal singh solanki\n",
      "In upper case :SNEHAL SINGH SOLANKI\n"
     ]
    }
   ],
   "source": [
    "# 40. Write a Python program that takes input from the user and displays that input back in upper and lower cases.\n",
    "str1 = input(\"Enter a string :\")\n",
    "print(\"In lower case :\"+str1.lower())\n",
    "print(\"In upper case :\"+str1.upper())"
   ]
  },
  {
   "cell_type": "code",
   "execution_count": 15,
   "id": "eae81a0f",
   "metadata": {},
   "outputs": [
    {
     "name": "stdout",
     "output_type": "stream",
     "text": [
      "The count is: 1\n"
     ]
    }
   ],
   "source": [
    "# 41. Write a Python program to count occurrences of a substring in a string.\n",
    "\n",
    "string = \"My name is \"\n",
    "substring = \"is\"\n",
    "\n",
    "count = string.count(substring)\n",
    "\n",
    "print(\"The count is:\", count)"
   ]
  },
  {
   "cell_type": "code",
   "execution_count": 17,
   "id": "88f0bea0",
   "metadata": {},
   "outputs": [
    {
     "name": "stdout",
     "output_type": "stream",
     "text": [
      "sneHAL\n"
     ]
    }
   ],
   "source": [
    "# 42. Write a Python program to lowercase first n characters in a string.\n",
    "\n",
    "str1 = 'SNEHAL'\n",
    "print(str1[:3].lower() + str1[3:]) #FIRST 3 characters in lower case"
   ]
  },
  {
   "cell_type": "code",
   "execution_count": 18,
   "id": "aedff3c1",
   "metadata": {},
   "outputs": [
    {
     "name": "stdout",
     "output_type": "stream",
     "text": [
      "SNEHALSINGH\n"
     ]
    }
   ],
   "source": [
    "# 43. Write a Python program to remove spaces from a given string.\n",
    "\n",
    "str1= 'SNEHAL     SINGH'\n",
    "str1=str1.replace('     ','')\n",
    "print(str1)"
   ]
  },
  {
   "cell_type": "code",
   "execution_count": 19,
   "id": "87d6dec8",
   "metadata": {},
   "outputs": [
    {
     "name": "stdout",
     "output_type": "stream",
     "text": [
      "String without initial spaces = SNEHAL SINGH SOLANKI\n"
     ]
    }
   ],
   "source": [
    "# 44. Write a Python program to move spaces to the front of a given string.\n",
    "a=\"                                                                SNEHAL SINGH SOLANKI\"\n",
    "print(\"String without initial spaces =\",a.strip())"
   ]
  }
 ],
 "metadata": {
  "kernelspec": {
   "display_name": "Python 3 (ipykernel)",
   "language": "python",
   "name": "python3"
  },
  "language_info": {
   "codemirror_mode": {
    "name": "ipython",
    "version": 3
   },
   "file_extension": ".py",
   "mimetype": "text/x-python",
   "name": "python",
   "nbconvert_exporter": "python",
   "pygments_lexer": "ipython3",
   "version": "3.9.6"
  }
 },
 "nbformat": 4,
 "nbformat_minor": 5
}

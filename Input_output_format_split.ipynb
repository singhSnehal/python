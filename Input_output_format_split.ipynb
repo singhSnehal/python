{
 "cells": [
  {
   "cell_type": "code",
   "execution_count": 1,
   "id": "7c1aa007",
   "metadata": {},
   "outputs": [
    {
     "name": "stdout",
     "output_type": "stream",
     "text": [
      "Enter your name: SNEHAL SINGH SOLANKI\n",
      "Hello, SNEHAL SINGH SOLANKI\n",
      "<class 'str'>\n"
     ]
    }
   ],
   "source": [
    "# Taking input from the user\n",
    "name = input(\"Enter your name: \") #Input Command\n",
    "\n",
    "print(\"Hello, \" + name) #Output Command\n",
    "print(type(name))"
   ]
  },
  {
   "cell_type": "code",
   "execution_count": 2,
   "id": "110944a1",
   "metadata": {},
   "outputs": [
    {
     "name": "stdout",
     "output_type": "stream",
     "text": [
      "Enter a number: 13\n",
      "14\n"
     ]
    }
   ],
   "source": [
    "# Taking input from the user as integer\n",
    "num = int(input(\"Enter a number: \"))\n",
    " \n",
    "add = num + 1\n",
    " \n",
    "# Output\n",
    "print(add)"
   ]
  },
  {
   "cell_type": "code",
   "execution_count": 3,
   "id": "09f2bcdf",
   "metadata": {},
   "outputs": [
    {
     "name": "stdout",
     "output_type": "stream",
     "text": [
      "HII\n"
     ]
    }
   ],
   "source": [
    "# Output Command\n",
    "# print() method\n",
    "print(\"HII\")"
   ]
  },
  {
   "cell_type": "code",
   "execution_count": 4,
   "id": "8c61cc07",
   "metadata": {},
   "outputs": [
    {
     "name": "stdout",
     "output_type": "stream",
     "text": [
      "HII!H#H#I\n"
     ]
    }
   ],
   "source": [
    "# print() method\n",
    "print(\"HII\", end = \"!\")\n",
    " \n",
    "# code for disabling the softspace feature \n",
    "print('H', 'H', 'I', sep=\"#\")"
   ]
  },
  {
   "cell_type": "code",
   "execution_count": 5,
   "id": "dfe7b6fe",
   "metadata": {},
   "outputs": [
    {
     "name": "stdout",
     "output_type": "stream",
     "text": [
      "Hello Snehal! How are you?\n"
     ]
    }
   ],
   "source": [
    "#Formatting\n",
    "name = \"Snehal\"\n",
    "print(f'Hello {name}! How are you?')"
   ]
  },
  {
   "cell_type": "code",
   "execution_count": 6,
   "id": "d9f2ee61",
   "metadata": {},
   "outputs": [
    {
     "name": "stdout",
     "output_type": "stream",
     "text": [
      "The value of a is 20 and b is 10\n",
      "30 is the sum of 20 and 10\n",
      "10 is the subtraction of 20 and 10\n"
     ]
    }
   ],
   "source": [
    "#Addition and subtraction Program with formated output\n",
    "a = 20\n",
    "b = 10\n",
    " \n",
    "# addition\n",
    "sum = a + b\n",
    " \n",
    "# subtraction\n",
    "sub = a- b\n",
    " \n",
    "# Output\n",
    "print('The value of a is {} and b is {}'.format(a,b))\n",
    " \n",
    "print('{2} is the sum of {0} and {1}'.format(a,b,sum))\n",
    " \n",
    "print('{sub_value} is the subtraction of {value_a} and {value_b}'.format(value_a = a ,\n",
    "                                                                         value_b = b,\n",
    "                                                                         sub_value = sub))"
   ]
  },
  {
   "cell_type": "code",
   "execution_count": 7,
   "id": "af277a3c",
   "metadata": {},
   "outputs": [
    {
     "name": "stdout",
     "output_type": "stream",
     "text": [
      "['Python', 'is', 'a', 'fun', 'programming', 'language']\n"
     ]
    }
   ],
   "source": [
    "#Python String split()\n",
    "text = 'Python is a fun programming language'\n",
    "\n",
    "# split the text from space\n",
    "print(text.split(' '))"
   ]
  },
  {
   "cell_type": "code",
   "execution_count": 8,
   "id": "66abd51a",
   "metadata": {},
   "outputs": [
    {
     "name": "stdout",
     "output_type": "stream",
     "text": [
      "['C', 'Python', 'R', 'Java', 'SQL', 'Hadoop']\n",
      "['apples', 'banana', 'mango', 'fig', 'pear']\n"
     ]
    }
   ],
   "source": [
    "#Split using Separator\n",
    "langs = 'C,Python,R,Java,SQL,Hadoop'\n",
    "print(langs.split(','))\n",
    "\n",
    "fruits = 'apples$banana$mango$fig$pear'\n",
    "print(fruits.split('$'))"
   ]
  },
  {
   "cell_type": "code",
   "execution_count": 10,
   "id": "1f963554",
   "metadata": {},
   "outputs": [
    {
     "name": "stdout",
     "output_type": "stream",
     "text": [
      "Enter a two value: 4 6\n",
      "Number of boys:  4\n",
      "Number of girls:  6\n",
      "\n",
      "Enter a three value: 9 2 7\n",
      "Total number of teachers:  9\n",
      "Number of boys is :  2\n",
      "Number of girls is :  7\n",
      "\n"
     ]
    }
   ],
   "source": [
    "# multiple input using split\n",
    " \n",
    "# taking two inputs at a time\n",
    "x, y = input(\"Enter a two value: \").split()\n",
    "print(\"Number of boys: \", x)\n",
    "print(\"Number of girls: \", y)\n",
    "print()\n",
    " \n",
    "# taking three inputs at a time\n",
    "x, y, z = input(\"Enter a three value: \").split()\n",
    "print(\"Total number of teachers: \", x)\n",
    "print(\"Number of boys is : \", y)\n",
    "print(\"Number of girls is : \", z)\n",
    "print()"
   ]
  }
 ],
 "metadata": {
  "kernelspec": {
   "display_name": "Python 3 (ipykernel)",
   "language": "python",
   "name": "python3"
  },
  "language_info": {
   "codemirror_mode": {
    "name": "ipython",
    "version": 3
   },
   "file_extension": ".py",
   "mimetype": "text/x-python",
   "name": "python",
   "nbconvert_exporter": "python",
   "pygments_lexer": "ipython3",
   "version": "3.9.6"
  }
 },
 "nbformat": 4,
 "nbformat_minor": 5
}

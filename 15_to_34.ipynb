{
 "cells": [
  {
   "cell_type": "code",
   "execution_count": 1,
   "id": "74aeeae6",
   "metadata": {},
   "outputs": [
    {
     "name": "stdout",
     "output_type": "stream",
     "text": [
      "Enter Number of classes held50\n",
      "Enter Number of classes attended45\n",
      "You are allowed to sit in exam and your attendance percentage is  90.0\n"
     ]
    }
   ],
   "source": [
    "# 16. A student will not be allowed to sit in exam if his/her attendence is less than 80%.\n",
    "#     Take following input from user\n",
    "#     Total Number of classes held\n",
    "#     Total Number of classes attended. And print percentage of class attended. Is student is allowed to sit in exam or not.\n",
    "\n",
    "a=int(input(\"Enter Number of classes held\"))\n",
    "b=int(input(\"Enter Number of classes attended\"))\n",
    "p=(b/a)*100\n",
    "if p>=80:\n",
    "    print(\"You are allowed to sit in exam and your attendance percentage is \",p)\n",
    "else:\n",
    "    print(\"You are not allowed to sit in exam and your attendance percentage is \",p)\n",
    "    "
   ]
  },
  {
   "cell_type": "code",
   "execution_count": 2,
   "id": "40b130e7",
   "metadata": {},
   "outputs": [
    {
     "name": "stdout",
     "output_type": "stream",
     "text": [
      "Enter your income30000\n",
      "Your tax is  4000.0\n"
     ]
    }
   ],
   "source": [
    "# 17. Calculate income tax for the given income by adhering to the below rules\n",
    "#     Taxable Income        Rate (in %)\n",
    "#     First Rs.10,0000         0\n",
    "#     Next Rs. 10,0000        10\n",
    "#     The remaining           20\n",
    "\n",
    "income=int(input(\"Enter your income\"))\n",
    "if income<=10000:\n",
    "    print(\"Your tax is 0\")\n",
    "elif 10000<income<=20000:\n",
    "    tax=(income-10000)*0.1\n",
    "    print(\"Your tax is \",tax)\n",
    "elif income>=20000:\n",
    "    tax=(income-10000)*0.1 +(income-20000)*0.2\n",
    "    print(\"Your tax is \",tax)"
   ]
  },
  {
   "cell_type": "code",
   "execution_count": 3,
   "id": "778966c6",
   "metadata": {},
   "outputs": [
    {
     "name": "stdout",
     "output_type": "stream",
     "text": [
      "Ente a no.123\n",
      "Digital Sum of entered no. is  6\n"
     ]
    }
   ],
   "source": [
    "# 18. Program to find digital sum of a given Number\n",
    "#     ex: n=123  Digital sum----->1+2+3=6\n",
    "\n",
    "n=int(input(\"Ente a no.\"))\n",
    "f=n//100\n",
    "m=n%100//10\n",
    "l=n%10\n",
    "sum=f+m+l\n",
    "print(\"Digital Sum of entered no. is \",sum)"
   ]
  },
  {
   "cell_type": "code",
   "execution_count": 4,
   "id": "ac479c69",
   "metadata": {},
   "outputs": [
    {
     "name": "stdout",
     "output_type": "stream",
     "text": [
      "Ente a no.43\n",
      "Digital product of entered no. is  12\n"
     ]
    }
   ],
   "source": [
    "# 19. Program to find the digital product of a given number\n",
    "#     ex: n=43   Digital product ----->4*3=12\n",
    "\n",
    "n=int(input(\"Ente a no.\"))\n",
    "f=n//10\n",
    "l=n%10\n",
    "pro=f*l\n",
    "print(\"Digital product of entered no. is \",pro)"
   ]
  },
  {
   "cell_type": "code",
   "execution_count": 5,
   "id": "a67a059a",
   "metadata": {},
   "outputs": [
    {
     "name": "stdout",
     "output_type": "stream",
     "text": [
      "Enter the no. of which you want series 3\n",
      "Enter the no. till which you want series 4\n",
      "3702\n"
     ]
    }
   ],
   "source": [
    "# 20. Find the sum of the series 3 +33 + 333 + 3333 + .. n terms\n",
    "\n",
    "\n",
    "n=int(input(\"Enter the no. of which you want series \"))\n",
    "m=int(input(\"Enter the no. till which you want series \"))\n",
    "change = n\n",
    "s = 0    #  initializing sum(s) to 0\n",
    "for i in range(m):\n",
    "   s += change  # adding change to s\n",
    "   change = change * 10 + n   # updating the value of change\n",
    "print(s)\n",
    "\n"
   ]
  },
  {
   "cell_type": "code",
   "execution_count": 6,
   "id": "f34d5b58",
   "metadata": {},
   "outputs": [
    {
     "name": "stdout",
     "output_type": "stream",
     "text": [
      "* \n",
      "* * \n",
      "* * * \n",
      "* * * * \n",
      "* * * * * \n",
      "* * * * *  \n",
      "* * * *  \n",
      "* * *  \n",
      "* *  \n",
      "*  \n"
     ]
    }
   ],
   "source": [
    "# 21. Print the following pattern\n",
    "'''\n",
    "* \n",
    "* * \n",
    "* * * \n",
    "* * * * \n",
    "* * * * * \n",
    "* * * * \n",
    "* * * \n",
    "* * \n",
    "*\n",
    "'''\n",
    "\n",
    "for i in range(1,6):\n",
    "    for j in range(1,i+1):\n",
    "        print(\"*\" , end=\" \")\n",
    "    print()\n",
    "\n",
    "for i in range(6, 1, -1):\n",
    "    for j in range(0, i - 1):\n",
    "        print(\"*\", end=' ')\n",
    "    print(\" \")"
   ]
  },
  {
   "cell_type": "code",
   "execution_count": 8,
   "id": "cb23c207",
   "metadata": {},
   "outputs": [
    {
     "name": "stdout",
     "output_type": "stream",
     "text": [
      "enter a no.123\n",
      "Reversed Number: 321\n"
     ]
    }
   ],
   "source": [
    "# 22. Program to reverse a given Number.    ex: n=123   Reversed no is 321\n",
    "\n",
    "num = int(input(\"enter a no.\"))\n",
    "rev = 0\n",
    "\n",
    "while num != 0:\n",
    "    digit = num % 10\n",
    "    rev= rev*10 + digit\n",
    "    num //= 10\n",
    "\n",
    "print(\"Reversed Number: \"+ str(rev))\n"
   ]
  },
  {
   "cell_type": "code",
   "execution_count": 9,
   "id": "f0489335",
   "metadata": {},
   "outputs": [
    {
     "name": "stdout",
     "output_type": "stream",
     "text": [
      "enter a no.121\n",
      "The number is a palindrome!\n"
     ]
    }
   ],
   "source": [
    "# 23. Program to check whether a given number is a palindrome or not\n",
    "\n",
    "num = int(input(\"enter a no.\"))\n",
    "temp=num\n",
    "rev = 0\n",
    "\n",
    "while num != 0:\n",
    "    digit = num % 10\n",
    "    rev= rev*10 + digit\n",
    "    num //= 10\n",
    "\n",
    "if(temp==rev):\n",
    "    print(\"The number is a palindrome!\")\n",
    "else:\n",
    "    print(\"The number isn't a palindrome!\")"
   ]
  },
  {
   "cell_type": "code",
   "execution_count": 11,
   "id": "f38d0348",
   "metadata": {},
   "outputs": [
    {
     "name": "stdout",
     "output_type": "stream",
     "text": [
      "Enter a number: 371\n",
      "371 is an Armstrong number\n"
     ]
    }
   ],
   "source": [
    "# 24. Program to check whether a given number is an Armstrong number or not.\n",
    "\n",
    "\n",
    "num = int(input(\"Enter a number: \"))\n",
    "sum = 0\n",
    "temp = num\n",
    "while temp > 0:\n",
    "   digit = temp % 10\n",
    "   sum += digit ** 3\n",
    "   temp //= 10\n",
    "\n",
    "if num == sum:\n",
    "   print(num,\"is an Armstrong number\")\n",
    "else:\n",
    "   print(num,\"is not an Armstrong number\")"
   ]
  },
  {
   "cell_type": "code",
   "execution_count": 13,
   "id": "1278545c",
   "metadata": {},
   "outputs": [
    {
     "name": "stdout",
     "output_type": "stream",
     "text": [
      "Enter a number: 5\n",
      "Factorial is  120\n"
     ]
    }
   ],
   "source": [
    "# 25.  Program to find factorial of a given number.\n",
    "\n",
    "num = int(input(\"Enter a number: \"))\n",
    "fact=1\n",
    "\n",
    "for i in range(1, num + 1):\n",
    "    fact = fact * i\n",
    "print(\"Factorial is \",fact)"
   ]
  },
  {
   "cell_type": "code",
   "execution_count": 17,
   "id": "03d364ba",
   "metadata": {},
   "outputs": [
    {
     "name": "stdout",
     "output_type": "stream",
     "text": [
      "Enter the Number:145\n",
      "Factorial of 5 = 120\n",
      "Factorial of 4 = 24\n",
      "Factorial of 1 = 1\n",
      "Sum of Factorials of a Given Number 145 = 145\n",
      "The given number is a Strong Number\n"
     ]
    }
   ],
   "source": [
    "# 26. Program to find whether a given number is a strong number or not.\n",
    "#     e.g. n=145\n",
    "#     1!+4!+5!==145\n",
    "\n",
    "num = int(input(\"Enter the Number:\"))  \n",
    "sum = 0  \n",
    "temp = num  \n",
    "  \n",
    "while(temp > 0):  \n",
    "    fact = 1  \n",
    "    rem = temp % 10  \n",
    "  \n",
    "    for i in range(1, rem + 1):  \n",
    "        fact = fact * i  \n",
    "  \n",
    "    print(\"Factorial of %d = %d\" %(rem, fact))  \n",
    "    sum = sum + fact  \n",
    "    temp = temp // 10  \n",
    "  \n",
    "print(\"Sum of Factorials of a Given Number %d = %d\" %(num, sum))  \n",
    "      \n",
    "if (sum == num):  \n",
    "    print(\"The given number is a Strong Number\")  \n",
    "else:  \n",
    "    print(\"The given number is not a Strong Number\")  "
   ]
  },
  {
   "cell_type": "code",
   "execution_count": 2,
   "id": "b5d8ff84",
   "metadata": {},
   "outputs": [
    {
     "name": "stdout",
     "output_type": "stream",
     "text": [
      "Enter a number: 56\n",
      "Entered number is Unique Number\n"
     ]
    }
   ],
   "source": [
    "# 27. Program to find whether a given number is a unique number.\n",
    "#     For example, 20, 56, 9863, 145, etc. are the unique numbers while 33, 121, 900, 1010, etc. are not unique numbers\n",
    "\n",
    "n= list(map(int,input(\"Enter a number: \").split()))\n",
    "n1=[]\n",
    "for i in n:\n",
    "    if i not in n1:\n",
    "        n1.append(i)\n",
    "if len(n)==len(n1):\n",
    "    print(\"Entered number is Unique Number\")\n",
    "else:\n",
    "    print(\"Entered number is not Unique Number\")"
   ]
  },
  {
   "cell_type": "code",
   "execution_count": 2,
   "id": "48788767",
   "metadata": {},
   "outputs": [
    {
     "name": "stdout",
     "output_type": "stream",
     "text": [
      "Enter any number: 6\n",
      "Entered number is a Perfect number\n"
     ]
    }
   ],
   "source": [
    "# 28. Program to find whether a given number is a perfect number or not.\n",
    "\n",
    "n = int(input(\"Enter any number: \"))\n",
    "sum1 = 0\n",
    "for i in range(1, n):\n",
    "    if(n % i == 0):\n",
    "        sum1 = sum1 + i\n",
    "if (sum1 == n):\n",
    "    print(\"Entered number is a Perfect number\")\n",
    "else:\n",
    "    print(\"Entered number is not a Perfect number\")"
   ]
  },
  {
   "cell_type": "code",
   "execution_count": 3,
   "id": "8b0e7cbd",
   "metadata": {},
   "outputs": [
    {
     "name": "stdout",
     "output_type": "stream",
     "text": [
      "Enter any number: 7\n",
      "Entered number is a prime number\n"
     ]
    }
   ],
   "source": [
    "# 29. Program to find whether a given number is a prime number or not.\n",
    "\n",
    "n = int(input(\"Enter any number: \"))\n",
    "flag=0\n",
    "for i in range(2,n):\n",
    "    if n % i == 0:\n",
    "        flag=1\n",
    "        break\n",
    "    \n",
    "if(flag==1):\n",
    "    print(\"Entered number is a not prime number\")\n",
    "else:\n",
    "    print(\"Entered number is a prime number\")"
   ]
  },
  {
   "cell_type": "code",
   "execution_count": 6,
   "id": "6fc4dd47",
   "metadata": {},
   "outputs": [
    {
     "name": "stdout",
     "output_type": "stream",
     "text": [
      "* * * * *  \n",
      "* * * *  \n",
      "* * *  \n",
      "* *  \n",
      "*  \n"
     ]
    }
   ],
   "source": [
    "# 30.Print downward Half-Pyramid Pattern with Star (asterisk)\n",
    "'''\n",
    "* * * * *  \n",
    "* * * *  \n",
    "* * *  \n",
    "* *  \n",
    "*\n",
    "'''\n",
    "\n",
    "\n",
    "for i in range(6, 1, -1):\n",
    "    for j in range(0, i - 1):\n",
    "        print(\"*\", end=' ')\n",
    "    print(\" \")"
   ]
  },
  {
   "cell_type": "code",
   "execution_count": 13,
   "id": "65c3de46",
   "metadata": {},
   "outputs": [
    {
     "name": "stdout",
     "output_type": "stream",
     "text": [
      "1\n",
      "22\n",
      "333\n",
      "4444\n",
      "55555\n",
      "666666\n",
      "7777777\n",
      "88888888\n",
      "999999999\n"
     ]
    }
   ],
   "source": [
    "# 31. Print  following pattern: \n",
    "'''\n",
    "1\n",
    "22\n",
    "333\n",
    "4444\n",
    "55555\n",
    "666666\n",
    "7777777\n",
    "88888888\n",
    "999999999\n",
    "'''\n",
    "\n",
    "for i in range(1,10):\n",
    "    for j in range(1,i+1):\n",
    "        print(i,end=\"\")\n",
    "    print()"
   ]
  },
  {
   "cell_type": "code",
   "execution_count": 14,
   "id": "b839c674",
   "metadata": {},
   "outputs": [
    {
     "name": "stdout",
     "output_type": "stream",
     "text": [
      "1\n",
      "12\n",
      "123\n",
      "1234\n",
      "12345\n",
      "123456\n",
      "1234567\n",
      "12345678\n",
      "123456789\n"
     ]
    }
   ],
   "source": [
    "# 32. Print  following pattern: \n",
    "'''\n",
    "1\n",
    "12\n",
    "123\n",
    "1234\n",
    "12345\n",
    "123456\n",
    "1234567\n",
    "12345678\n",
    "123456789\n",
    "'''\n",
    "\n",
    "for i in range(1,10):\n",
    "    for j in range(1,i+1):\n",
    "        print(j,end=\"\")\n",
    "    print()"
   ]
  },
  {
   "cell_type": "code",
   "execution_count": 15,
   "id": "2b441f6a",
   "metadata": {},
   "outputs": [
    {
     "name": "stdout",
     "output_type": "stream",
     "text": [
      "A\n",
      "BB\n",
      "CCC\n",
      "DDDD\n",
      "EEEEE\n",
      "FFFFFF\n",
      "GGGGGGG\n",
      "HHHHHHHH\n"
     ]
    }
   ],
   "source": [
    "# 33. Print following pattern: \n",
    "'''\n",
    "A\n",
    "BB\n",
    "CCC\n",
    "DDDD\n",
    "EEEEE\n",
    "FFFFFF\n",
    "GGGGGGG\n",
    "HHHHHHHH\n",
    "'''\n",
    "\n",
    "for i in range(65,73):\n",
    "    for j in range(65,i+1):\n",
    "        print(chr(i),end=\"\")\n",
    "    print()"
   ]
  },
  {
   "cell_type": "code",
   "execution_count": 16,
   "id": "0d3a4322",
   "metadata": {},
   "outputs": [
    {
     "name": "stdout",
     "output_type": "stream",
     "text": [
      "Length of string is  20\n"
     ]
    }
   ],
   "source": [
    "# 34. Write a Python program to calculate the length of a given string.\n",
    "\n",
    "a=\"SNEHAL SINGH SOLANKI\"\n",
    "print(\"Length of string is \",len(a))"
   ]
  }
 ],
 "metadata": {
  "kernelspec": {
   "display_name": "Python 3 (ipykernel)",
   "language": "python",
   "name": "python3"
  },
  "language_info": {
   "codemirror_mode": {
    "name": "ipython",
    "version": 3
   },
   "file_extension": ".py",
   "mimetype": "text/x-python",
   "name": "python",
   "nbconvert_exporter": "python",
   "pygments_lexer": "ipython3",
   "version": "3.9.6"
  }
 },
 "nbformat": 4,
 "nbformat_minor": 5
}
